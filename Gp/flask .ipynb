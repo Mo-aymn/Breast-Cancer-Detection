{
 "cells": [
  {
   "cell_type": "code",
   "execution_count": null,
   "id": "87ba8f77-a6e6-4245-8fc2-822239d7774b",
   "metadata": {},
   "outputs": [
    {
     "name": "stderr",
     "output_type": "stream",
     "text": [
      "WARNING:absl:Compiled the loaded model, but the compiled metrics have yet to be built. `model.compile_metrics` will be empty until you train or evaluate the model.\n",
      "WARNING:absl:Compiled the loaded model, but the compiled metrics have yet to be built. `model.compile_metrics` will be empty until you train or evaluate the model.\n"
     ]
    },
    {
     "name": "stdout",
     "output_type": "stream",
     "text": [
      "Both models and the CSV file were loaded successfully!\n",
      " * Serving Flask app '__main__'\n",
      " * Debug mode: on\n"
     ]
    },
    {
     "name": "stderr",
     "output_type": "stream",
     "text": [
      "INFO:werkzeug:\u001b[31m\u001b[1mWARNING: This is a development server. Do not use it in a production deployment. Use a production WSGI server instead.\u001b[0m\n",
      " * Running on all addresses (0.0.0.0)\n",
      " * Running on http://127.0.0.1:5000\n",
      " * Running on http://192.168.1.9:5000\n",
      "INFO:werkzeug:\u001b[33mPress CTRL+C to quit\u001b[0m\n"
     ]
    },
    {
     "name": "stdout",
     "output_type": "stream",
     "text": [
      "\u001b[1m1/1\u001b[0m \u001b[32m━━━━━━━━━━━━━━━━━━━━\u001b[0m\u001b[37m\u001b[0m \u001b[1m3s\u001b[0m 3s/step\n"
     ]
    },
    {
     "name": "stderr",
     "output_type": "stream",
     "text": [
      "INFO:werkzeug:192.168.1.11 - - [12/Jun/2025 20:18:41] \"POST /predict/simple HTTP/1.1\" 200 -\n"
     ]
    },
    {
     "name": "stdout",
     "output_type": "stream",
     "text": [
      "\u001b[1m1/1\u001b[0m \u001b[32m━━━━━━━━━━━━━━━━━━━━\u001b[0m\u001b[37m\u001b[0m \u001b[1m4s\u001b[0m 4s/step\n"
     ]
    },
    {
     "name": "stderr",
     "output_type": "stream",
     "text": [
      "INFO:werkzeug:192.168.1.11 - - [12/Jun/2025 20:18:49] \"POST /predict/detailed HTTP/1.1\" 200 -\n"
     ]
    }
   ],
   "source": [
    "import os\n",
    "import numpy as np\n",
    "import pandas as pd\n",
    "from PIL import Image\n",
    "from datetime import datetime\n",
    "from flask import Flask, request, jsonify\n",
    "from flask_cors import CORS\n",
    "from tensorflow.keras.models import load_model\n",
    "\n",
    "SIMPLE_MODEL_PATH = \"C:/Users/ABA/Downloads/Xception.h5\"\n",
    "DETAILED_MODEL_PATH =\"C:/Users/ABA/Desktop/New folder (3)/detailed_ex.h5\"\n",
    "CSV_PATH = \"E:/me/my Projects/dataset/csv/modified_dataset.csv\"\n",
    "\n",
    "if not os.path.exists(SIMPLE_MODEL_PATH):\n",
    "    raise FileNotFoundError(f\"Simple model not found at: {SIMPLE_MODEL_PATH}\")\n",
    "if not os.path.exists(DETAILED_MODEL_PATH):\n",
    "    raise FileNotFoundError(f\"Detailed model not found at: {DETAILED_MODEL_PATH}\")\n",
    "if not os.path.exists(CSV_PATH):\n",
    "    raise FileNotFoundError(f\"CSV file not found at: {CSV_PATH}\")\n",
    "\n",
    "simple_model = load_model(SIMPLE_MODEL_PATH)\n",
    "detailed_model = load_model(DETAILED_MODEL_PATH)\n",
    "csv_data = pd.read_csv(CSV_PATH)\n",
    "\n",
    "print(\"Both models and the CSV file were loaded successfully!\")\n",
    "\n",
    "app = Flask(__name__)\n",
    "CORS(app)\n",
    "\n",
    "CATEGORIES = [\"Cancer\", \"Non-Cancer\"]\n",
    "\n",
    "def preprocess_image(img, IMG_SIZE):\n",
    "    img = img.resize((IMG_SIZE, IMG_SIZE))\n",
    "    img = np.array(img) / 255.0\n",
    "    img = np.expand_dims(img, axis=0)\n",
    "    return img\n",
    "\n",
    "def decode_prediction(encoded_value, column_name):\n",
    "    unique_values = csv_data[column_name].unique()\n",
    "    return str(unique_values[int(encoded_value)])\n",
    "\n",
    "@app.route(\"/\")\n",
    "def home():\n",
    "    return \"Flask API is running successfully! - Use /predict/simple or /predict/detailed\"\n",
    "\n",
    "@app.route(\"/predict/simple\", methods=[\"POST\"])\n",
    "def predict_simple():\n",
    "    if \"file\" not in request.files:\n",
    "        return jsonify({\"error\": \"No image file uploaded\"}), 400\n",
    "\n",
    "    file = request.files[\"file\"]\n",
    "    img = Image.open(file).convert(\"RGB\")\n",
    "    img = preprocess_image(img, 100)\n",
    "\n",
    "    prediction = simple_model.predict(img)\n",
    "    predicted_class = np.argmax(prediction, axis=1)[0]\n",
    "    confidence = float(np.max(prediction))\n",
    "\n",
    "    return jsonify({\n",
    "        \"class\": CATEGORIES[predicted_class],\n",
    "        \"confidence\": confidence,\n",
    "        \"file\": file.filename\n",
    "    })\n",
    "\n",
    "@app.route(\"/predict/detailed\", methods=[\"POST\"])\n",
    "def predict_detailed():\n",
    "    if \"file\" not in request.files:\n",
    "        return jsonify({\"error\": \"No image file uploaded\"}), 400\n",
    "\n",
    "    file = request.files[\"file\"]\n",
    "    img = Image.open(file).convert(\"RGB\")\n",
    "    img = preprocess_image(img, 224)\n",
    "\n",
    "    predictions = detailed_model.predict(img)\n",
    "\n",
    "    results = {\n",
    "        \"mass_shape\": decode_prediction(np.argmax(predictions[0], axis=1)[0], 'mass_shape'),\n",
    "        \"mass_margins\": decode_prediction(np.argmax(predictions[1], axis=1)[0], 'mass_margins'),\n",
    "        \"calc_type\": decode_prediction(np.argmax(predictions[2], axis=1)[0], 'calc_type'),\n",
    "        \"calc_distribution\": decode_prediction(np.argmax(predictions[3], axis=1)[0], 'calc_distribution'),\n",
    "        \"pathology\": decode_prediction(np.argmax(predictions[4], axis=1)[0], 'pathology'),\n",
    "        \"breast_density\": decode_prediction(np.argmax(predictions[5], axis=1)[0], 'breast_density'),\n",
    "        \"left_or_right_breast\": decode_prediction(np.argmax(predictions[6], axis=1)[0], 'left_or_right_breast'),\n",
    "        \"image_view\": decode_prediction(np.argmax(predictions[7], axis=1)[0], 'image_view'),\n",
    "        \"abnormality_id\": decode_prediction(np.argmax(predictions[8], axis=1)[0], 'abnormality_id'),\n",
    "        \"abnormality_type\": decode_prediction(np.argmax(predictions[9], axis=1)[0], 'abnormality_type')\n",
    "    }\n",
    "\n",
    "    report = {\n",
    "        \"report_date\": datetime.now().strftime('%Y-%m-%d %H:%M:%S'),\n",
    "        \"processed_image\": file.filename,\n",
    "        \"predictions\": results,\n",
    "        \"Notes\": \"Based on these findings, it is advisable to see a specialist to assess the condition accurately.\"\n",
    "    }\n",
    "\n",
    "    return jsonify(report)\n",
    "\n",
    "if __name__ == \"__main__\":\n",
    "    app.run(host='0.0.0.0', port=5000, debug=True, use_reloader=False)\n"
   ]
  },
  {
   "cell_type": "code",
   "execution_count": null,
   "id": "16354edf-5df8-44c1-bb86-dc5247d7a678",
   "metadata": {},
   "outputs": [],
   "source": []
  },
  {
   "cell_type": "code",
   "execution_count": null,
   "id": "01b8518c-6068-470b-bec5-2df9b7242308",
   "metadata": {},
   "outputs": [],
   "source": []
  }
 ],
 "metadata": {
  "kernelspec": {
   "display_name": "Python 3 (ipykernel)",
   "language": "python",
   "name": "python3"
  },
  "language_info": {
   "codemirror_mode": {
    "name": "ipython",
    "version": 3
   },
   "file_extension": ".py",
   "mimetype": "text/x-python",
   "name": "python",
   "nbconvert_exporter": "python",
   "pygments_lexer": "ipython3",
   "version": "3.12.4"
  }
 },
 "nbformat": 4,
 "nbformat_minor": 5
}
